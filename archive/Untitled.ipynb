{
 "cells": [
  {
   "cell_type": "markdown",
   "id": "166f8973-ad41-48ac-af65-924b95f4d1f8",
   "metadata": {},
   "source": [
    "# Summary "
   ]
  },
  {
   "cell_type": "markdown",
   "id": "6b1f0677-c3dc-468d-bf20-19841756adee",
   "metadata": {},
   "source": [
    "The following notebook aim to provide a walk-through into how the modeling of the account balance of a trader can be efficiently anticipated. When working under uncertainty, as it the case here, we are mostly interested in the average scenario and the most common one. Following this, our modeling here will focus on computing the account balance expectation, most common scenario and median scenario. Additionally, we will also look into the variation observed in different cases."
   ]
  },
  {
   "cell_type": "markdown",
   "id": "7bd58cac-2e16-4305-a4d3-6c3f562e6971",
   "metadata": {},
   "source": [
    "# Trading scenario\n",
    "\n",
    "For the following, we are considering a trader that follow a simple yet crucial rule for his money management: the stop-loss at each time period represent a **fix, predetermined** fraction of his **actual balance**.\n",
    "\n",
    "# Main variables\n",
    "$B_0$\n",
    "$u$\n",
    "$d$\n",
    "$r$\n",
    "$s$\n",
    "$p$\n",
    "$q$"
   ]
  },
  {
   "cell_type": "markdown",
   "id": "bdef8dfb-64c2-4105-bc94-87743d1a517b",
   "metadata": {},
   "source": [
    "## Expectation"
   ]
  },
  {
   "cell_type": "markdown",
   "id": "4589857b-0fff-4ba4-8e2d-070f5aa5fb5a",
   "metadata": {},
   "source": [
    "The expectation can be simply defined as the average in the future, what we can expect when we consider every possible scenarios and weight them with their chance of happening. In regard of this, we can look at the different expectation over time:\n",
    "\n",
    "\n",
    "|Time $t$| Expectation $E$ |\n",
    "|----|----|\n",
    "|0|$B_0$|\n",
    "|1|$B_0(pu + qd)$|\n",
    "|2|$B_0(p^2u^2 + pqud + q^2d^2 + pqud)$|"
   ]
  },
  {
   "cell_type": "code",
   "execution_count": null,
   "id": "7a399fd9-6d23-4b36-ba1a-a08535a9532c",
   "metadata": {},
   "outputs": [],
   "source": []
  }
 ],
 "metadata": {
  "kernelspec": {
   "display_name": "Python 3 (ipykernel)",
   "language": "python",
   "name": "python3"
  },
  "language_info": {
   "codemirror_mode": {
    "name": "ipython",
    "version": 3
   },
   "file_extension": ".py",
   "mimetype": "text/x-python",
   "name": "python",
   "nbconvert_exporter": "python",
   "pygments_lexer": "ipython3",
   "version": "3.12.4"
  }
 },
 "nbformat": 4,
 "nbformat_minor": 5
}

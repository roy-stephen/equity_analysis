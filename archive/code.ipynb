{
 "cells": [
  {
   "cell_type": "code",
   "execution_count": 26,
   "id": "8ca8dbcd-2541-4fac-a9a2-6004cb6e5eb9",
   "metadata": {},
   "outputs": [],
   "source": [
    "import numpy as np\n",
    "import math\n",
    "import matplotlib.pyplot as plt"
   ]
  },
  {
   "cell_type": "markdown",
   "id": "3c2d8225-ba4d-4d62-bb7f-e3c8a121dbfd",
   "metadata": {},
   "source": [
    "# Balance"
   ]
  },
  {
   "cell_type": "markdown",
   "id": "3a27ddb9-ca3f-4506-8bce-3daf71d5e4c2",
   "metadata": {},
   "source": [
    "## Average"
   ]
  },
  {
   "cell_type": "code",
   "execution_count": 27,
   "id": "4ffc04ae-1fe5-4f98-b54e-a136c85c7a88",
   "metadata": {},
   "outputs": [],
   "source": [
    "def compute_ud(r, s):\n",
    "    return 1 + r*s, 1 - s\n",
    "\n",
    "def average(b0, p, r, s, n):\n",
    "    return b0 * (p*(1 + r*s) + (1-p)*(1 - s))**n\n",
    "\n",
    "def std(b0, p, r, s, n):\n",
    "    avg = average(b0, p, r, s, n)\n",
    "    avg_of_square = b0**2 * (p*(1 + r*s)**2 + (1-p)*(1 -s)**2)**n\n",
    "    return np.sqrt(avg_of_square - avg**2) \n",
    "\n",
    "def binomial_coefficient(n, k):\n",
    "    return math.factorial(n) // (math.factorial(k) * math.factorial(n-k))\n",
    "\n",
    "def generate_terms(b0, u, d, p, n):\n",
    "    terms = []\n",
    "    terms_p = []\n",
    "    coefficients = []\n",
    "    for k in range(n+1):\n",
    "        coefficient = binomial_coefficient(n, k)\n",
    "        term = b0 * (u)**(n-k) *  (d)**k\n",
    "        term_p = (p)**(n-k) *  (1-p)**k\n",
    "        coefficients = np.append(coefficients, coefficient * term_p)\n",
    "        terms = np.append(terms, term)\n",
    "    return coefficients, terms\n",
    "\n",
    "def max_indices(coefs, first=True):\n",
    "    position = 0 if first else -1\n",
    "    max_indices = np.where(coefs == np.max(coefs))[0]\n",
    "    return max_indices[position]\n",
    "\n",
    "def modes(b0, p, r, s, n):\n",
    "    mod1, mod2 = [], []\n",
    "    for i in range(n):\n",
    "        coefs, terms = generate_terms(b0, (1 + r*s), (1 - s), p, i)\n",
    "        idx1 = max_indices(coefs, first=True)\n",
    "        idx2 = max_indices(coefs, first=False)\n",
    "        mod1 = np.append(mod1, terms[idx1])\n",
    "        mod2 = np.append(mod2, terms[idx2])\n",
    "    return mod1, mod2\n",
    "\n",
    "def generate_data(coefs, terms):\n",
    "    return np.repeat(terms, np.round(coefs * len(terms)).astype(int))\n",
    "\n",
    "def median(b0, p, r, s, n):\n",
    "    med = []\n",
    "    for i in range(n):\n",
    "        coefs, terms = generate_terms(b0, (1 + r*s), (1 - s), p, i)\n",
    "        data = generate_data(coefs, terms)\n",
    "        med = np.append(med, np.median(data))\n",
    "    return med"
   ]
  },
  {
   "cell_type": "code",
   "execution_count": 41,
   "id": "b7db61e4-9d86-41e4-ad7c-317df3e7f6b7",
   "metadata": {},
   "outputs": [
    {
     "name": "stdout",
     "output_type": "stream",
     "text": [
      "126 ms ± 1.01 ms per loop (mean ± std. dev. of 7 runs, 10 loops each)\n"
     ]
    }
   ],
   "source": [
    "%%timeit\n",
    "generate_terms(100,1.1,0.8,0.5,1000)"
   ]
  },
  {
   "cell_type": "code",
   "execution_count": 28,
   "id": "bffaeeda-e795-4af7-b61f-e884f779754c",
   "metadata": {},
   "outputs": [
    {
     "data": {
      "text/plain": [
       "[<matplotlib.lines.Line2D at 0x1d60aa62850>]"
      ]
     },
     "execution_count": 28,
     "metadata": {},
     "output_type": "execute_result"
    },
    {
     "data": {
      "image/png": "[encoded data removed]",
      "text/plain": [
       "<Figure size 432x288 with 1 Axes>"
      ]
     },
     "metadata": {
      "needs_background": "light"
     },
     "output_type": "display_data"
    }
   ],
   "source": [
    "# plt.plot(modes(1, .51, 1, 0.01, 500)[0])\n",
    "# plt.plot(modes(1, .51, 1, 0.01, 500)[1])\n",
    "plt.plot(median(1, .54, 2, 0.01, 100))"
   ]
  },
  {
   "cell_type": "code",
   "execution_count": null,
   "id": "beafaa81-0ab9-41d1-b6f5-f0b8da4d2103",
   "metadata": {},
   "outputs": [],
   "source": []
  }
 ],
 "metadata": {
  "kernelspec": {
   "display_name": "Python 3 (ipykernel)",
   "language": "python",
   "name": "python3"
  },
  "language_info": {
   "codemirror_mode": {
    "name": "ipython",
    "version": 3
   },
   "file_extension": ".py",
   "mimetype": "text/x-python",
   "name": "python",
   "nbconvert_exporter": "python",
   "pygments_lexer": "ipython3",
   "version": "3.12.4"
  }
 },
 "nbformat": 4,
 "nbformat_minor": 5
}

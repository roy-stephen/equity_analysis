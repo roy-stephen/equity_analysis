{
 "cells": [
  {
   "cell_type": "code",
   "execution_count": 1,
   "id": "1d8d4037-a582-4615-916f-95d99992c3f5",
   "metadata": {},
   "outputs": [],
   "source": [
    "import numpy as np\n",
    "import sympy as sp\n",
    "import pandas as pd\n",
    "import math\n",
    "\n",
    "import matplotlib.pyplot as plt"
   ]
  },
  {
   "cell_type": "code",
   "execution_count": 2,
   "id": "f6235477-c88b-4386-aafe-70dd009e91bd",
   "metadata": {},
   "outputs": [],
   "source": [
    "%matplotlib inline"
   ]
  },
  {
   "cell_type": "markdown",
   "id": "bf169a11-8ce2-49d0-8d6f-462c179861fc",
   "metadata": {},
   "source": [
    "The goal is to find a way to find som ways to compute differents statitics about an equity tree\n",
    "\n",
    "(insert image and further explain)"
   ]
  },
  {
   "cell_type": "code",
   "execution_count": 3,
   "id": "322cd8b3-d39d-4284-b54d-1c19f3b0aae4",
   "metadata": {},
   "outputs": [],
   "source": [
    "B0, U, D, P, Q, R, S = sp.symbols('b_0 u d p q r s', real=True, non_negative=True)\n",
    "U = 1 + R*S\n",
    "D = 1 - S\n",
    "N = sp.symbols('n', integer=True, non_negative=True)\n",
    "n = 1"
   ]
  },
  {
   "cell_type": "markdown",
   "id": "225c3706-f6a2-4756-8bbf-38aeada94ce6",
   "metadata": {},
   "source": [
    "# balance\n",
    "## average"
   ]
  },
  {
   "cell_type": "code",
   "execution_count": 24,
   "id": "37ed36a1-17a2-486d-b543-53370f514183",
   "metadata": {},
   "outputs": [],
   "source": [
    "def compute_ud(r, s):\n",
    "    return 1 + r*s,  1 -s \n",
    "\n",
    "def average(b0, p, r, s, n):\n",
    "    u, d = compute_ud(r, s)\n",
    "    return b0 * (p*u + (1-p)*d)**n"
   ]
  },
  {
   "cell_type": "code",
   "execution_count": 25,
   "id": "3f09702b-07e1-46c8-97bb-0838217cccdb",
   "metadata": {},
   "outputs": [
    {
     "data": {
      "text/latex": [
       "$\\displaystyle b_{0} \\left(p \\left(r s + 1\\right) + \\left(1 - p\\right) \\left(1 - s\\right)\\right)^{n}$"
      ],
      "text/plain": [
       "b_0*(p*(r*s + 1) + (1 - p)*(1 - s))**n"
      ]
     },
     "execution_count": 25,
     "metadata": {},
     "output_type": "execute_result"
    }
   ],
   "source": [
    "average(B0, P, R, S, N)"
   ]
  },
  {
   "cell_type": "code",
   "execution_count": 26,
   "id": "193bf8fc-5123-47ff-ad0e-ad8a629d56dc",
   "metadata": {},
   "outputs": [
    {
     "data": {
      "text/latex": [
       "$\\displaystyle \\left|{p r s + p s - s + 1}\\right|^{1.0}$"
      ],
      "text/plain": [
       "Abs(p*r*s + p*s - s + 1)**1.0"
      ]
     },
     "execution_count": 26,
     "metadata": {},
     "output_type": "execute_result"
    }
   ],
   "source": [
    "# estimating average growth rate of the average\n",
    "((average(B0, P, R, S, N+100) / average(B0, P, R, S, N))**(1/100)).simplify()"
   ]
  },
  {
   "cell_type": "code",
   "execution_count": 17,
   "id": "115e5383-a22e-461d-9e26-9a6feef521e3",
   "metadata": {},
   "outputs": [],
   "source": [
    "# ie $ pu + (1-p)d $"
   ]
  },
  {
   "cell_type": "markdown",
   "id": "64fadd32-e06d-46a5-976b-b031b2b4a8b2",
   "metadata": {},
   "source": [
    "## mode"
   ]
  },
  {
   "cell_type": "code",
   "execution_count": 19,
   "id": "930058d9-1db1-4179-a368-e998ed4272a7",
   "metadata": {},
   "outputs": [],
   "source": [
    "def subs(sym, d):\n",
    "    return sym.subs(d)\n",
    "subs = np.vectorize(subs)\n",
    "\n",
    "def binomial_coefficient(n, k):\n",
    "    return math.factorial(n) // (math.factorial(k) * math.factorial(n-k))\n",
    "\n",
    "def generate_terms(b0, u, d, n):\n",
    "    terms = []\n",
    "    coefficients = []\n",
    "    for k in range(n+1):\n",
    "        coefficient = binomial_coefficient(n, k)\n",
    "        term = b0 * (u)**(n-k) *  (d)**k\n",
    "        coefficients = np.append(coefficients, coefficient)\n",
    "        terms = np.append(terms, term)\n",
    "    t = subs(terms, {u: P, d:1-P, b0:1})\n",
    "    coefficients = coefficients * t \n",
    "    return coefficients, terms\n",
    "\n",
    "def max_indices(coefs, p_value, first=True):\n",
    "    position = 0 if first else -1\n",
    "    coefs_value = subs(coefs, {P: p_value})\n",
    "    max_val = np.max(coefs_value)\n",
    "    max_indices = np.where(coefs_value == max_val)[0]\n",
    "    return max_indices[position]"
   ]
  },
  {
   "cell_type": "code",
   "execution_count": 20,
   "id": "b4a99544-591a-4299-8570-dc405bfd475f",
   "metadata": {},
   "outputs": [],
   "source": [
    "def modes(b0, p, r, s, n):\n",
    "    u, d = compute_ud(r, s)\n",
    "    coefs, terms = generate_terms(b0, u, d, n)\n",
    "    idx1 = max_indices(coefs, p, first=True)\n",
    "    idx2 = max_indices(coefs, p, first=False)\n",
    "    return terms[idx1], terms[idx2]\n"
   ]
  },
  {
   "cell_type": "code",
   "execution_count": 27,
   "id": "417cd664-c7c0-43bf-a9f0-c43f5d1556f5",
   "metadata": {},
   "outputs": [
    {
     "data": {
      "text/plain": [
       "(b_0*(r*s + 1), b_0*(1 - s))"
      ]
     },
     "execution_count": 27,
     "metadata": {},
     "output_type": "execute_result"
    }
   ],
   "source": [
    "modes(B0, .5, R, S, 1)"
   ]
  },
  {
   "cell_type": "code",
   "execution_count": 42,
   "id": "72b37969-c1cf-4fd5-a258-be8247a6b6df",
   "metadata": {},
   "outputs": [],
   "source": [
    "p_mode = 0.5"
   ]
  },
  {
   "cell_type": "code",
   "execution_count": 30,
   "id": "79c16b09-0291-4010-a0b2-52cb12425ba5",
   "metadata": {},
   "outputs": [
    {
     "name": "stdout",
     "output_type": "stream",
     "text": [
      "[1 - s, r*s + 1, 1 - s, r*s + 1, 1 - s, 1 - s, r*s + 1, 1 - s, r*s + 1, 1 - s]\n"
     ]
    }
   ],
   "source": [
    "modes1_avg = []\n",
    "for i in range(10):\n",
    "    modes1_avg.append(modes(B0, p_mode, R, S, i+1)[0] / modes(B0, p_mode, R, S, i)[0])\n",
    "\n",
    "print(modes1_avg)"
   ]
  },
  {
   "cell_type": "code",
   "execution_count": 31,
   "id": "1957e4f6-f15b-4c9e-b632-ce68ac4a6235",
   "metadata": {},
   "outputs": [
    {
     "name": "stdout",
     "output_type": "stream",
     "text": [
      "[1 - s, r*s + 1, 1 - s, r*s + 1, 1 - s, 1 - s, 1 - s, 1 - s, (1 - s)**2/(r*s + 1), 1 - s]\n"
     ]
    }
   ],
   "source": [
    "modes2_avg = []\n",
    "for i in range(10):\n",
    "    modes2_avg.append(modes(B0, p_mode, R, S, i+1)[-1] / modes(B0, .5, R, S, i)[-1])\n",
    "\n",
    "print(modes2_avg)"
   ]
  },
  {
   "cell_type": "code",
   "execution_count": 285,
   "id": "18d5c80b-c6ad-480a-a9d3-bdda3de5ab6a",
   "metadata": {},
   "outputs": [
    {
     "data": {
      "text/latex": [
       "$\\displaystyle \\left(\\left(r s + 1\\right)^{89}\\right)^{0.00917431192660551} \\left|{s - 1}\\right|^{0.18348623853211}$"
      ],
      "text/plain": [
       "((r*s + 1)**89)**0.00917431192660551*Abs(s - 1)**0.18348623853211"
      ]
     },
     "execution_count": 285,
     "metadata": {},
     "output_type": "execute_result"
    }
   ],
   "source": [
    "p_mode = 0.81\n",
    "start = 0\n",
    "step = 109\n",
    "# estimating average growth rate of the average\n",
    "m_future = modes(B0, p_mode, R, S, start+step)[0]\n",
    "m_past = modes(B0, p_mode, R, S, start)[0]\n",
    "((m_future / m_past)**(1/step))"
   ]
  },
  {
   "cell_type": "code",
   "execution_count": 161,
   "id": "0d185378-6746-4caa-8b29-d7da5adf6070",
   "metadata": {},
   "outputs": [
    {
     "data": {
      "text/latex": [
       "$\\displaystyle \\left(\\left(1 - s\\right)^{3}\\right)^{0.2} \\left|{r s + 1}\\right|^{0.4}$"
      ],
      "text/plain": [
       "((1 - s)**3)**0.2*Abs(r*s + 1)**0.4"
      ]
     },
     "execution_count": 161,
     "metadata": {},
     "output_type": "execute_result"
    }
   ],
   "source": [
    "p_mode = 0.5\n",
    "# estimating average growth rate of the average\n",
    "(modes(B0, p_mode, R, S, 0+5)[1] / modes(B0, p_mode, R, S, 0)[1])**(1/5)"
   ]
  },
  {
   "cell_type": "markdown",
   "id": "3b9f2f3a-0978-4f73-981a-11f17dc83c70",
   "metadata": {},
   "source": [
    "## median"
   ]
  },
  {
   "cell_type": "code",
   "execution_count": 99,
   "id": "6178acfd-61a7-4084-8c98-9c737aed6131",
   "metadata": {},
   "outputs": [],
   "source": [
    "def generate_data(pval, coefs, terms):\n",
    "    coefs_val = subs(coefs, {P: pval})\n",
    "    return np.repeat(terms, np.round((coefs_val * len(terms)).astype(float)).astype(int))"
   ]
  },
  {
   "cell_type": "code",
   "execution_count": 100,
   "id": "27a3b9bb-5afa-4b19-8ba0-258c2f964d8a",
   "metadata": {},
   "outputs": [],
   "source": [
    "def median(b0, p, r, s, n):\n",
    "    u, d = compute_ud(r, s)\n",
    "    coefs, terms = generate_terms(b0, u, d, n)\n",
    "    data = generate_data(p, coefs, terms)\n",
    "    n_data = len(data)\n",
    "    if n_data % 2 == 0:\n",
    "        middle_index_1 = n_data // 2 - 1\n",
    "        middle_index_2 = n_data // 2\n",
    "        return (data[middle_index_1] + data[middle_index_2]) / 2\n",
    "    else:\n",
    "        middle_index = n_data // 2\n",
    "        return data[middle_index]"
   ]
  },
  {
   "cell_type": "code",
   "execution_count": 279,
   "id": "3d1196ee-eb12-486b-bde3-a9ac96568f56",
   "metadata": {},
   "outputs": [
    {
     "name": "stdout",
     "output_type": "stream",
     "text": [
      "[r*s + 1, -(r*s + 1)**2/(s - 1), (r*s + 1)**3/(s - 1)**2, -(r*s + 1)**4/(s - 1)**3, (r*s + 1)**5/(s - 1)**4, -(r*s + 1)**6/(s - 1)**5, (r*s + 1)**6*(r*s - s + 2)/(2*(s - 1)**6), (r*s + 1)**7/(s - 1)**6, 2*(r*s + 1)**8/((s - 1)**6*(r*s - s + 2)), -(r*s + 1)**8/(s - 1)**7, (r*s + 1)**9/(s - 1)**8, -(r*s + 1)**10/(s - 1)**9, (r*s + 1)**11/(s - 1)**10, -(r*s + 1)**12/(s - 1)**11, (r*s + 1)**13/(s - 1)**12]\n"
     ]
    }
   ],
   "source": [
    "median_avg = []\n",
    "for i in range(15):\n",
    "    median_avg.append((median(B0, .9, R, S, i+1) / median(B0, .1, R, S, i)).factor())\n",
    "\n",
    "print(median_avg)"
   ]
  },
  {
   "cell_type": "code",
   "execution_count": 284,
   "id": "48731070-1607-4fe7-8bdb-29c303d542b3",
   "metadata": {},
   "outputs": [
    {
     "data": {
      "text/latex": [
       "$\\displaystyle \\left(\\left(1 - s\\right)^{21}\\right)^{0.00917431192660551} \\left|{r s + 1}\\right|^{0.807339449541284}$"
      ],
      "text/plain": [
       "((1 - s)**21)**0.00917431192660551*Abs(r*s + 1)**0.807339449541284"
      ]
     },
     "execution_count": 284,
     "metadata": {},
     "output_type": "execute_result"
    }
   ],
   "source": [
    "p_mode = 0.81\n",
    "start = 0\n",
    "step = 109\n",
    "# estimating average growth rate of the average\n",
    "m_future = median(B0, p_mode, R, S, start+step)\n",
    "m_past = median(B0, p_mode, R, S, start)\n",
    "((m_future / m_past)**(1/step))"
   ]
  },
  {
   "cell_type": "markdown",
   "id": "93489108-7a7c-46ff-b8b2-e5fde66bf224",
   "metadata": {},
   "source": [
    "## std"
   ]
  },
  {
   "cell_type": "code",
   "execution_count": 109,
   "id": "d5bd020c-60e4-4e70-9c99-8e3e0ebe5af2",
   "metadata": {},
   "outputs": [],
   "source": [
    "def std(b0, p, r, s, n):\n",
    "    u, d = compute_ud(r, s)\n",
    "    avg = average(b0, p, r, s, n)\n",
    "    avg_of_square = b0**2 * (p*u**2 + (1-p)*d**2)**n\n",
    "    return sp.sqrt(avg_of_square - avg**2) "
   ]
  },
  {
   "cell_type": "code",
   "execution_count": 110,
   "id": "03a5c1ab-830e-42c0-9c29-fdc073251776",
   "metadata": {},
   "outputs": [
    {
     "data": {
      "text/latex": [
       "$\\displaystyle b_{0}^{2} s^{2} \\cdot \\left(0.25 r^{2} + 0.5 r + 0.25\\right)$"
      ],
      "text/plain": [
       "b_0**2*s**2*(0.25*r**2 + 0.5*r + 0.25)"
      ]
     },
     "execution_count": 110,
     "metadata": {},
     "output_type": "execute_result"
    }
   ],
   "source": [
    "(std(B0, .5, R, S, 1)**2).expand().simplify()"
   ]
  },
  {
   "cell_type": "markdown",
   "id": "55eaef7a-6298-44a4-9dc4-59552c77ddcb",
   "metadata": {},
   "source": [
    "# balance simulation\n"
   ]
  },
  {
   "cell_type": "code",
   "execution_count": 299,
   "id": "529f582a-820e-46c0-9f46-b21a66c51481",
   "metadata": {},
   "outputs": [],
   "source": [
    "b_avg, b_med, b_mode1, b_mode2, b_std = [], [], [], [], []\n",
    "\n",
    "b0= 100\n",
    "p = .7\n",
    "s = 0.1\n",
    "r = 3\n",
    "params = {B0: b0, P:p, R: r, S: s, N: i}\n",
    "\n",
    "for i in np.arange(0, 100, 1):\n",
    "    u, d = compute_ud(r, s)\n",
    "    x = np.round(99*p)\n",
    "    y = 99 - x\n",
    "    x2 = np.round(100*p)\n",
    "    y2 = 100 - x\n",
    "    b_avg.append(average(B0, P, R, S, i).subs(params))\n",
    "    b_med.append(median(B0, p, R, S, i).subs(params))\n",
    "    m = modes(B0, p, R, S, i)\n",
    "    b_mode1.append(m[0].subs(params))\n",
    "    b_mode2.append(m[-1].subs(params))\n",
    "    b_std.append(std(B0, p, R, S, i).subs(params))"
   ]
  },
  {
   "cell_type": "code",
   "execution_count": 301,
   "id": "15400b51-a117-46cf-8c95-1811234a6250",
   "metadata": {},
   "outputs": [
    {
     "data": {
      "image/png": "[encoded data removed]",
      "text/plain": [
       "<Figure size 432x288 with 1 Axes>"
      ]
     },
     "metadata": {
      "needs_background": "light"
     },
     "output_type": "display_data"
    }
   ],
   "source": [
    "plt.plot(b_avg, label=\"avg\")\n",
    "plt.plot(b_med, label=\"median\")\n",
    "plt.plot(b_mode1, label=\"m1\", ls='--', alpha=0.7)\n",
    "plt.plot(b_mode2, label=\"m2\", ls='--', alpha=0.7)\n",
    "\n",
    "plt.yscale(\"log\")\n",
    "plt.legend()\n",
    "plt.show()"
   ]
  },
  {
   "cell_type": "code",
   "execution_count": 303,
   "id": "75319106-3f8b-40ef-bcc1-1c8ba7a0efdd",
   "metadata": {},
   "outputs": [
    {
     "data": {
      "image/png": "[encoded data removed]",
      "text/plain": [
       "<Figure size 432x288 with 1 Axes>"
      ]
     },
     "metadata": {
      "needs_background": "light"
     },
     "output_type": "display_data"
    }
   ],
   "source": [
    "cv  = np.array(b_std) / np.array(b_avg)\n",
    "plt.plot(cv, label=\"cv\")\n",
    "plt.yscale(\"log\")"
   ]
  },
  {
   "cell_type": "code",
   "execution_count": null,
   "id": "7f28e418-b50f-403f-a7dd-d0fe8630bd65",
   "metadata": {},
   "outputs": [],
   "source": []
  }
 ],
 "metadata": {
  "kernelspec": {
   "display_name": "Python 3 (ipykernel)",
   "language": "python",
   "name": "python3"
  },
  "language_info": {
   "codemirror_mode": {
    "name": "ipython",
    "version": 3
   },
   "file_extension": ".py",
   "mimetype": "text/x-python",
   "name": "python",
   "nbconvert_exporter": "python",
   "pygments_lexer": "ipython3",
   "version": "3.12.4"
  }
 },
 "nbformat": 4,
 "nbformat_minor": 5
}

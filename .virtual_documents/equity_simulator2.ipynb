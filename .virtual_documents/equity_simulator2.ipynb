import pandas as pd
import numpy as np
import matplotlib.pyplot as plt
from scipy.stats import t, norm
import itertools
  
get_ipython().run_line_magic("matplotlib", " inline")


plt.rcParams['figure.figsize'] = 16, 12


def equity_simulator(starting_balance, risk_reward_ratio, percent_balance_risked, winning_rate, num_trades, alpha=.05, step=1):
    """
    This function will compute the mean and the standard dev. of a strategy over time. In contrast to Monte-Carlo simulation, this approach is fully deterministic,
    and thus, does not require simulations and return exact results.
    The formula for the expectation of the balance B after n trade is given by:
        E(B(n)) = Bo * (p*u + q*d)^n
    with Bo, the starting balance; p, the winning rate; u, the gross growth factor; q, the losing rate; d, the gross discounting factor. 
    u is defined by: (1 + percentage of balance risqued * risk reward ratio)
    d is : (1 - percentage of balance risqued).
    For the gross returns R(n) and the net return r(n):
        E(R(n)) = (p*u + q*d)^n
        E(r(n)) = (p*u + q*d)^n - 1 
    Follows:
        E(B(n)²) = Bo² * (p*u² + q*d²)^n
        Var(B(n)) = Bo² * (p*u² + q*d²)^n - Bo² * (p*u + q*d)^2n
        
    For the retunrs:
        Var(r(n)) = Var(R(n))
                  = (p*u² + q*d²)^n - (p*u + q*d)^2n
    Provided by:
        @Stephen Ezin
        
    PARAMETERS
    ----------
        starting_balance         : (float) the initial amount
        risk_reward_ratio        : (float) 
        percent_balance_risked   : (float) positive number between 0 and 1
        winning_rate             : (float) positive number between 0 and 1
        num_trade                : (int)
        
    RETURNS
    -------
        expectation              : ()
        upper                    : ()
        lower                    : ()
    """
    
    
    ### computing the 'core' statistics
    # computing u, d
    u = 1 + percent_balance_risked * risk_reward_ratio
    d = 1 - percent_balance_risked
    
    # computing the average up to num_trades & build Conf. Interv.
    n = np.arange(0, num_trades+1, step)
        # expectations, and std for the balance
    expectation_balance = starting_balance * np.power(winning_rate*u + (1-winning_rate)*d, n)
    expectation_square_balance = starting_balance**2 * np.power(winning_rate * u**2 + (1 - winning_rate) * d**2, n)
    std_balance = np.sqrt(expectation_square_balance - np.power(expectation_balance, 2))
    
        # confidence intervals for balance
    margin = std_balance/np.sqrt(n) * ((n < 30) * t(df=n-1).ppf(1-alpha/2) + (n >= 30) * norm.ppf(1-alpha/2))
    upper = expectation_balance + margin
    lower = expectation_balance - margin
    
    # correcting for when CI is lower than worst case/ greatest than best case
    worst_case = starting_balance * d**n
    best_case = starting_balance * u**n
    
        # updating
    if winning_rate !=0 and winning_rate !=1 :
        lower[~(lower >= worst_case)] = worst_case[~(lower >= worst_case)]
        upper[~(upper <= best_case)] = best_case[~(upper <= best_case)]
    
    
    
    ### computing 'additional' statisitics
    # conmpute coefficient of variation for the balance
    coef_var = std_balance/expectation_balance
    idx_coef_var = (coef_var >= 1).argmax()
    
    # expectations, std sharpe ratio for the returns
     # exp
    expectation_rate = (winning_rate*u + (1 - winning_rate)*d)**n - 1
     # std
    expectation_gross_rate = (winning_rate*u + (1 - winning_rate)*d)**n
    expectation_square_gross_rate = (winning_rate*u**2 + (1 - winning_rate)*d**2)**n
    std_rate = np.sqrt(expectation_square_gross_rate - expectation_gross_rate**2)
     # sharpe ratio
    sharpe_ratio = expectation_rate/std_rate
    idx_sharpe = (sharpe_ratio >= 1).argmax()
    
    
    ### plotting
    # main
    balance_line = np.full(n.shape, starting_balance)
    fig, ax = plt.subplots(3, 1, gridspec_kw={"height_ratios":[3, 1, 1]}, sharex=False)
    
    plt.subplot(3, 1, 1)
    plt.plot(n, expectation_balance, label='Balance average')
    plt.hlines(y=starting_balance,
               xmax=num_trades+1,
               xmin=0,
               color='black',
               ls=':',
               label='')
    plt.fill_between(n, 
                     upper,
                     lower,
                     alpha=.5,
                     color='lightblue',
                     label=f'Confidence Interval {alpha*100}%')
    plt.fill_between(n, 
                     balance_line,
                     lower,
                     where=balance_line>lower,
                     alpha=.5,
                     color='coral',
                     interpolate=True)
    plt.legend()

    # figure 1 
    plt.subplot(3, 1, 2)
    plt.plot(n, coef_var)
    plt.hlines(y=1,
               xmax=num_trades+1,
               xmin=0,
               color='black',
               ls=':',
               label='Coefficient of variation')
    plt.legend()
    
    # figure 2 
    plt.subplot(3, 1, 3)
    plt.plot(n, sharpe_ratio)
    plt.hlines(y=1,
               xmax=num_trades+1,
               xmin=0,
               color='black',
               ls=':',
               label='Sharpe ratio')
    plt.legend()
    # plt.show()
    
    # conditional plot
        # get upper and lower max of axis
    lower_min = lower.min()
    upper_max = upper.max()
    sharpe_max = sharpe_ratio[1:].max()
    coef_var_max = coef_var[1:].max()
        
    if idx_sharpe:
        plt.subplot(3, 1, 1) # balance plot
        plt.vlines(n[idx_sharpe], 
                   lower_min,
                   upper_max,
                   color='lightgreen',
                   label=f'Sharpe: Good ({n[idx_sharpe]})')
        plt.legend()
        plt.subplot(3, 1, 3) # sharpe ratio plot
        plt.vlines(n[idx_sharpe], 
                   0,
                   sharpe_max,
                   color='lightgreen',)

    if idx_coef_var:
        plt.subplot(3, 1, 1) # balance plot
        plt.vlines(n[idx_coef_var], 
                   lower_min,
                   upper_max,
                   color='coral',
                   label=f'Coeff. of variation: Bad ({n[idx_coef_var]})')
        plt.legend()
        plt.subplot(3, 1, 2) # coef var plot
        plt.vlines(n[idx_coef_var], 
                   0,
                   coef_var_max,
                   color='coral')   
    
    return expectation_balance, upper, lower


starting_balance = 10_000
risk_reward_ratio = 3
percent_balance_risked = .01
winning_rate = .6
num_trades = 1
alpha = .05
step = 1

n = np.arange(0, num_trades)
u = 1 + percent_balance_risked * risk_reward_ratio
d = 1 - percent_balance_risked


# %%timeit
ex, up, lo = equity_simulator(starting_balance, risk_reward_ratio, percent_balance_risked, winning_rate, num_trades, alpha, step)


x = 2000
B0 = 1000
p = .6
q = 1 - p
percent_balance_risked = 0.01
risk_reward_ratio = 3
u = 1 + percent_balance_risked * risk_reward_ratio
d = 1 - percent_balance_risked


# nb of trade to reach x from B0
np.log10(x/B0)/np.log10(p*u+q*d)





p = winning_rate
# average number of winning
m = int(np.round(p*num_trades))
seq = '1'*m + '0'*(num_trades-m)


np.math.factorial(num_trades) / (np.math.factorial(m)*np.math.factorial(num_trades-m))


def anagrams(word):
    """ Generate all of the anagrams of a word. """ 
    if len(word) < 2:
        yield word
    else:
        for i, letter in enumerate(word):
            if not letter in word[:i]: # avoid duplicating earlier words
                for j in anagrams(word[:i]+word[i+1:]):
                    yield j+letter 


seq_i = list(anagrams(seq))


seq_i_arr = np.array(list(np.array(list(i)).astype(int) for i in seq_i))


balance_history = starting_balance * np.cumprod(1 + percent_balance_risked * risk_reward_ratio * seq_i_arr - percent_balance_risked * (1-seq_i_arr), axis=1)


up.shape


# plt.plot(np.arange(1, num_trades+1), balance_history.T)
plt.plot(np.arange(1, num_trades+1), balance_history.mean(axis=0), label = 'Average balance Most likely')
plt.plot(ex, label='Average balance')
plt.fill_between(np.arange(0, num_trades+1), 
                 up,
                 lo,
                 alpha=.5,
                 color='lightblue',
                 label=f'Confidence Interval {alpha*100}%')
plt.legend()
plt.show()









